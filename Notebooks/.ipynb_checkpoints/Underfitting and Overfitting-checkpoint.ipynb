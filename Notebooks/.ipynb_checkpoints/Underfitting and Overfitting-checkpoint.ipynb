{
 "cells": [
  {
   "cell_type": "code",
   "execution_count": 1,
   "metadata": {},
   "outputs": [],
   "source": [
    "# In decision trees, a tree can be made up with many splits.\n",
    "# Each split or level divides the dataset (that is passed onto it) into half.\n",
    "# If there are too many splits, there might be many leaves with small groups of houses in them. \n",
    "# This can be a disadvantage as the predictions are done based on a very small number of data.\n",
    "# This is called as Overfitting. In Overfitting, training data is matched almost perfectly but new test data\n",
    "#  would not do very good here.\n",
    "# If the tree has got insufficient number of splits, the leaves will be left with a big collection of houses\n",
    "#  with a vast diversity.\n",
    "# This is called as Underfitting. In Uderfitting, both training data and testing data would not provide \n",
    "#  good results."
   ]
  },
  {
   "cell_type": "code",
   "execution_count": 4,
   "metadata": {},
   "outputs": [],
   "source": [
    "import pandas as pd\n",
    "from sklearn.metrics import mean_absolute_error\n",
    "from sklearn.tree import DecisionTreeRegressor\n",
    "from sklearn.model_selection import train_test_split"
   ]
  },
  {
   "cell_type": "code",
   "execution_count": 5,
   "metadata": {},
   "outputs": [],
   "source": [
    "# Load dataset\n",
    "melbourne_data_path = \"../Data/melb_data.csv\"\n",
    "\n",
    "melbourne_data = pd.read_csv(melbourne_data_path)\n",
    "\n",
    "y = melbourne_data.Price\n",
    "melbourne_features = ['Rooms', 'Bathroom', 'Landsize', 'Lattitude', 'Longtitude']\n",
    "X = melbourne_data[melbourne_features]\n",
    "\n",
    "train_X, val_X, train_y, val_y = train_test_split(X, y, random_state = 1)"
   ]
  },
  {
   "cell_type": "code",
   "execution_count": 6,
   "metadata": {},
   "outputs": [],
   "source": [
    "# A function to return the MAE for a given max number of leaf nodes.\n",
    "def get_mae(max_leaf_nodes, train_X, val_X, train_y, val_y):\n",
    "    model = DecisionTreeRegressor(max_leaf_nodes=max_leaf_nodes, random_state=0)\n",
    "    model.fit(train_X, train_y)\n",
    "    predictions = model.predict(val_X)\n",
    "    mae = mean_absolute_error(val_y, predictions)\n",
    "    return mae"
   ]
  },
  {
   "cell_type": "code",
   "execution_count": 7,
   "metadata": {},
   "outputs": [
    {
     "name": "stdout",
     "output_type": "stream",
     "text": [
      "Maximum leaf nodes: 5 \t\t Mean Absolute Error: 356157\n",
      "Maximum leaf nodes: 50 \t\t Mean Absolute Error: 264538\n",
      "Maximum leaf nodes: 500 \t\t Mean Absolute Error: 222979\n",
      "Maximum leaf nodes: 5000 \t\t Mean Absolute Error: 240506\n"
     ]
    }
   ],
   "source": [
    "# Using a for loop to try multiple values for max_leaf_nodes.\n",
    "for max_leaf_nodes in [5, 50, 500, 5000]:\n",
    "    mae = get_mae(max_leaf_nodes, train_X, val_X, train_y, val_y)\n",
    "    print(\"Maximum leaf nodes: %d \\t\\t Mean Absolute Error: %d\" %(max_leaf_nodes, mae))"
   ]
  },
  {
   "cell_type": "code",
   "execution_count": null,
   "metadata": {},
   "outputs": [],
   "source": [
    "# Out of these options, 500 seems like the optimal option for number of maximum leaf nodes."
   ]
  }
 ],
 "metadata": {
  "kernelspec": {
   "display_name": "Python 3",
   "language": "python",
   "name": "python3"
  },
  "language_info": {
   "codemirror_mode": {
    "name": "ipython",
    "version": 3
   },
   "file_extension": ".py",
   "mimetype": "text/x-python",
   "name": "python",
   "nbconvert_exporter": "python",
   "pygments_lexer": "ipython3",
   "version": "3.7.3"
  }
 },
 "nbformat": 4,
 "nbformat_minor": 2
}
