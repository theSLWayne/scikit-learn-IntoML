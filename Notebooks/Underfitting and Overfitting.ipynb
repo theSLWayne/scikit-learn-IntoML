{
 "cells": [
  {
   "cell_type": "code",
   "execution_count": 1,
   "metadata": {},
   "outputs": [],
   "source": [
    "# In decision trees, a tree can be made up with many splits.\n",
    "# Each split or level divides the dataset (that is passed onto it) into half.\n",
    "# If there are too many splits, there might be many leaves with small groups of houses in them. \n",
    "# This can be a disadvantage as the predictions are done based on a very small number of data.\n",
    "# This is called as Overfitting. In Overfitting, training data is matched almost perfectly but new test data\n",
    "#  would not do very good here.\n",
    "# If the tree has got insufficient number of splits, the leaves will be left with a big collection of houses\n",
    "#  with a vast diversity.\n",
    "# This is called as Underfitting. In Uderfitting, both training data and testing data would not provide \n",
    "#  good results."
   ]
  },
  {
   "cell_type": "code",
   "execution_count": null,
   "metadata": {},
   "outputs": [],
   "source": [
    "import pandas as pd\n",
    "\n",
    "# Load dataset\n",
    "melbourne_data_path = \"../Data/melb_data.csv\"\n",
    "\n",
    "melbourne_data = pd.read_csv(melbourne_data_path)"
   ]
  }
 ],
 "metadata": {
  "kernelspec": {
   "display_name": "Python 3",
   "language": "python",
   "name": "python3"
  },
  "language_info": {
   "codemirror_mode": {
    "name": "ipython",
    "version": 3
   },
   "file_extension": ".py",
   "mimetype": "text/x-python",
   "name": "python",
   "nbconvert_exporter": "python",
   "pygments_lexer": "ipython3",
   "version": "3.7.3"
  }
 },
 "nbformat": 4,
 "nbformat_minor": 2
}
